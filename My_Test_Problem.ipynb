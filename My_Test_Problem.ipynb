{
 "cells": [
  {
   "cell_type": "markdown",
   "id": "5f4a0165-f67c-4d93-8634-ccee27222714",
   "metadata": {},
   "source": [
    "# INITIAL INFORMATION - 참조 함수"
   ]
  },
  {
   "cell_type": "code",
   "execution_count": null,
   "id": "fd4982f4-c1f9-45c9-a6df-3ad9e4b41d3a",
   "metadata": {},
   "outputs": [],
   "source": [
    "# !pip install scikit-surprise"
   ]
  },
  {
   "cell_type": "code",
   "execution_count": null,
   "id": "ce6c9667-dada-4bd1-a21b-84fb2a17748d",
   "metadata": {},
   "outputs": [],
   "source": [
    "import pandas as pd\n",
    "import numpy as np\n",
    "\n",
    "def load_movies_dataset() -> pd.DataFrame:\n",
    "    \"\"\"영화에 대한 정보 불러오기\"\"\"\n",
    "    movie_data_columns = [\n",
    "    'movie_id', 'title', 'release_date', 'video_release_date', 'url',\n",
    "    'unknown', 'Action', 'Adventure', 'Animation', \"Children's\",\n",
    "    'Comedy', 'Crime', 'Documentary', 'Drama', 'Fantasy', 'Film-Noir',\n",
    "    'Horror', 'Musical', 'Mystery', 'Romance', 'Sci-Fi', 'Thriller',\n",
    "    'War', 'Western'\n",
    "    ]\n",
    "\n",
    "    movie_data = pd.read_csv(\n",
    "        'datasets/ml-100k/u.item', \n",
    "        sep = '|', \n",
    "        encoding = \"ISO-8859-1\", \n",
    "        header = None, \n",
    "        names = movie_data_columns,\n",
    "        index_col = 'movie_id'\n",
    "    )\n",
    "    movie_data['release_date'] = pd.to_datetime(movie_data['release_date'])\n",
    "    return movie_data\n",
    "\n",
    "def load_ratings() -> pd.DataFrame:\n",
    "    ratings_data = pd.read_csv(\n",
    "        'datasets/ml-100k/u.data',\n",
    "        sep = '\\t',\n",
    "        encoding = \"ISO-8859-1\",\n",
    "        header = None,\n",
    "        names=['user_id', 'movie_id', 'rating', 'timestamp']\n",
    "    )\n",
    "    return ratings_data"
   ]
  },
  {
   "cell_type": "code",
   "execution_count": null,
   "id": "855582ab-45d8-4e46-8fbd-ae40a4fa38fd",
   "metadata": {},
   "outputs": [],
   "source": [
    "movie_data = load_movies_dataset()\n",
    "ratings_data = load_ratings()"
   ]
  },
  {
   "cell_type": "code",
   "execution_count": null,
   "id": "b77dac52-41cd-43c6-8e79-13e3c6be494b",
   "metadata": {},
   "outputs": [],
   "source": [
    "movie_data.head()"
   ]
  },
  {
   "cell_type": "code",
   "execution_count": null,
   "id": "7fd63d6f-f1a6-45d1-a3be-96db83ea6951",
   "metadata": {},
   "outputs": [],
   "source": [
    "ratings_data.head(10)"
   ]
  },
  {
   "cell_type": "code",
   "execution_count": null,
   "id": "79278812-b559-4790-85c7-bcd803cdb125",
   "metadata": {},
   "outputs": [],
   "source": [
    "ratings_data['user_id'].max()"
   ]
  },
  {
   "cell_type": "markdown",
   "id": "7ff4889f-640a-4c47-ba22-3e34178bc1f7",
   "metadata": {},
   "source": [
    "# Ratings dataset\n",
    "\n",
    "Contains the **interactions** between users and movies\n",
    "\n",
    "- User **196** rated movie **242** with a score of **3** \n",
    "- User **186** rated movie **302** with a score of **3** \n",
    "- User **22** rated movie **377** with a score of **3** "
   ]
  },
  {
   "cell_type": "code",
   "execution_count": null,
   "id": "8852902c-7826-4633-96ee-8709b2c3b8a2",
   "metadata": {},
   "outputs": [],
   "source": [
    "ratings_data[ratings_data['movie_id'] == 1]['rating'].describe()"
   ]
  },
  {
   "cell_type": "markdown",
   "id": "ec68f503-e6e3-4628-9321-dd1eb1dd8091",
   "metadata": {},
   "source": []
  },
  {
   "cell_type": "markdown",
   "id": "8dda3b5d-f270-4282-b30a-5fcd7f38dc54",
   "metadata": {},
   "source": [
    "> NOW SOLVE!!!!"
   ]
  },
  {
   "cell_type": "markdown",
   "id": "91dcf9bb-ee4e-46e2-ad19-9d35e86863f9",
   "metadata": {},
   "source": []
  },
  {
   "cell_type": "markdown",
   "id": "566a7913-5623-4857-96b6-656e6d9ffdac",
   "metadata": {},
   "source": []
  },
  {
   "cell_type": "markdown",
   "id": "3d172485-20dd-418f-9010-211eb05f829f",
   "metadata": {},
   "source": [
    "# 해답) 문제 풀이"
   ]
  },
  {
   "cell_type": "code",
   "execution_count": null,
   "id": "08e848e1-31b5-44dd-aece-b202d0e98f49",
   "metadata": {},
   "outputs": [],
   "source": [
    "from surprise import SVD, NMF, accuracy\n",
    "from surprise import Dataset, Reader\n",
    "from surprise.model_selection import cross_validate, train_test_split\n",
    "\n",
    "# Surprise has some preset datasets, including ml-100k!\n",
    "# data = Dataset.load_builtin('ml-100k')\n",
    "\n",
    "reader = Reader(rating_scale=(1, 5))\n",
    "data = Dataset.load_from_df(ratings_data[['user_id', 'movie_id', 'rating']], reader)\n",
    "\n",
    "trainset, testset = train_test_split(data, test_size=.25)\n",
    "\n",
    "# Let's train a new Nonnegative SVD\n",
    "model = SVD(n_factors=100, biased=False)\n",
    "model.fit(trainset)\n",
    "\n",
    "# In reality, we should perform a train/test split and check RMSE to see if our model is trained\n",
    "# but today, for simplicity, I'm skipping this step\n",
    "predictions = model.test(testset)\n",
    "accuracy.rmse(predictions)"
   ]
  },
  {
   "cell_type": "markdown",
   "id": "07afa66d-a18c-4733-bce7-42f61caa3443",
   "metadata": {},
   "source": [
    "## Inspecting our Product Matrix\n",
    "\n",
    "Surprise SVD stores the product matrix under the `model.qi` attribute."
   ]
  },
  {
   "cell_type": "code",
   "execution_count": null,
   "id": "61c75287-9aaa-4876-b1d9-e7a45340b94e",
   "metadata": {},
   "outputs": [],
   "source": [
    "pd.DataFrame(model.qi).head(10)"
   ]
  },
  {
   "cell_type": "markdown",
   "id": "27312f2f-16df-4b81-a605-7e528d243f05",
   "metadata": {},
   "source": [
    "## Exploring the product matrix\n",
    "\n",
    "The matrix has `n_factors` columns (we chose 10). Every row represents a movie"
   ]
  },
  {
   "cell_type": "code",
   "execution_count": null,
   "id": "282a4b83-9008-458a-99f3-ae6541eaa602",
   "metadata": {},
   "outputs": [],
   "source": [
    "print(f\"The shape of our product matrix is {model.qi.shape}.\")\n",
    "print(f\"There are {ratings_data['movie_id'].unique().shape[0]} unique movies movies\")"
   ]
  },
  {
   "cell_type": "markdown",
   "id": "c49d2b7c-a1b6-47d7-bd0e-4152d7262f4d",
   "metadata": {},
   "source": [
    "## Generating predictions with simplicity\n",
    "\n",
    "Before looking into the latent features of our movies, let's use the API provided by Surprise. More specifically, Surprise provides us 1 API\n",
    "\n",
    " - `model.predict` computes the rating prediction for given user and movie\n",
    " \n",
    "Let's look at how we can use this API to generate movies that a given user may like\n",
    "\n",
    "```python\n",
    ">>> model.predict('302', '1')\n",
    "Prediction(uid=302, iid=1, r_ui=None, est=3.5327866666666665, details={'was_impossible': False})\n",
    "```\n",
    "\n",
    "NOTE: User ID and Movie ID are **strings**"
   ]
  },
  {
   "cell_type": "code",
   "execution_count": null,
   "id": "e960c9ba-414e-40c0-9604-35cbd9ec8245",
   "metadata": {},
   "outputs": [],
   "source": [
    "# The prediction for user 196 to like movie#1 (Toy Story)\n",
    "print(movie_data.loc[1])\n",
    "print()\n",
    "user_score_prediction = model.predict(196, 1)\n",
    "print(user_score_prediction)\n",
    "print(f\"\\n\\nUSER 196 gives Toy Story: {user_score_prediction.est}\")"
   ]
  },
  {
   "cell_type": "markdown",
   "id": "f3321a8d-3ced-4865-9e82-fad36c48a8be",
   "metadata": {},
   "source": [
    "## Recommend 출력 함수 만들기"
   ]
  },
  {
   "cell_type": "code",
   "execution_count": null,
   "id": "2842dde4-76ed-4bc6-a43a-22d496c4881a",
   "metadata": {},
   "outputs": [],
   "source": [
    "movie_id_to_title_map = dict(movie_data['title'])"
   ]
  },
  {
   "cell_type": "code",
   "execution_count": null,
   "id": "e4a3b7c4-b6b3-4816-8147-e5bad1971af1",
   "metadata": {},
   "outputs": [],
   "source": [
    "def generate_recommended_movies_for_user(model, user_id):\n",
    "    \"\"\"Return a DataFrame containing recommendations for the user, and the\n",
    "    associated score\n",
    "    \"\"\"\n",
    "    results = []\n",
    "    for movie_id, movie_title in movie_id_to_title_map.items():\n",
    "        \n",
    "        # For each movie, calculate score prediction \n",
    "        prediction = model.predict(user_id, movie_id)\n",
    "        results.append((movie_id, prediction.est, movie_title))\n",
    "       \n",
    "    return pd.DataFrame(results, columns=['movie_id', 'Estimated Prediction', 'Movie Title']).set_index('movie_id')\n",
    "\n",
    "\n",
    "def display_best_and_worse_recommendations(recommendations: pd.DataFrame):\n",
    "    recommendations.sort_values('Estimated Prediction', ascending=False, inplace=True)\n",
    "\n",
    "    top_recommendations = recommendations.iloc[:10]\n",
    "    top_recommendations.columns = ['Prediction (sorted by best)', 'Movie Title']\n",
    "    # worse_recommendations = recommendations.iloc[-10:]\n",
    "    # worse_recommendations.columns = ['Prediction (sorted by worse)', 'Movie Title']\n",
    "\n",
    "    return top_recommendations"
   ]
  },
  {
   "cell_type": "code",
   "execution_count": null,
   "id": "f59c5f57-e8b6-4bac-ad7f-024feb2c75c3",
   "metadata": {},
   "outputs": [],
   "source": [
    "# Let's generate some recommendations for a user 302\n",
    "recommendations = generate_recommended_movies_for_user(model, 302)\n",
    "display_best_and_worse_recommendations(recommendations)"
   ]
  },
  {
   "cell_type": "markdown",
   "id": "8027dec4-c124-483e-969e-58f27fcafea2",
   "metadata": {},
   "source": [
    "## 내가 좋아하는 영화 고르고, 데이터에 추가해서 추천 영화 뽑기"
   ]
  },
  {
   "cell_type": "code",
   "execution_count": null,
   "id": "96a8eea7-7acf-44ba-8b87-ca160bb29b52",
   "metadata": {},
   "outputs": [],
   "source": [
    "# 나는 최근 영화만 알기 때문에 최근 영화만 살펴보기\n",
    "movie_data.sort_values('release_date', ascending=False).iloc[:100]"
   ]
  },
  {
   "cell_type": "code",
   "execution_count": null,
   "id": "601cf9ac-f92a-4d79-8971-c87117a9d42e",
   "metadata": {},
   "outputs": [],
   "source": [
    "movie_data.sort_values('release_date', ascending=False).iloc[:200].to_clipboard(sep='\\t')\n",
    "# 엑셀에서 내가 좋아하는 영화 선택"
   ]
  },
  {
   "cell_type": "code",
   "execution_count": null,
   "id": "c1735c4b-8a6a-4368-876c-e6de55505ccd",
   "metadata": {},
   "outputs": [],
   "source": [
    "#선택한 내가 좋아하는 영화\n",
    "my_movie_lst = pd.Series([916, 355,350,258,298,252,987,250], name='movie_id')\n",
    "movie_data.loc[my_movie_lst, ['title', 'release_date']]"
   ]
  },
  {
   "cell_type": "code",
   "execution_count": null,
   "id": "ce7c03cd-0ee4-4b6b-adf1-8015bfa19422",
   "metadata": {},
   "outputs": [],
   "source": [
    "ratings_attach = my_movie_lst.to_frame().assign(rating=5)\n",
    "ratings_attach.insert(0, 'user_id', 1000)"
   ]
  },
  {
   "cell_type": "code",
   "execution_count": null,
   "id": "22691fc5-41dc-4925-babc-a4545f08ee1f",
   "metadata": {},
   "outputs": [],
   "source": [
    "ratings_data_ = pd.concat([ratings_data, ratings_attach], axis=0).reset_index(drop=True)"
   ]
  },
  {
   "cell_type": "code",
   "execution_count": null,
   "id": "fd6a5a36-6a3b-4eee-a352-6fb4813dd7f1",
   "metadata": {},
   "outputs": [],
   "source": [
    "reader = Reader(rating_scale=(1, 5))\n",
    "data = Dataset.load_from_df(ratings_data_[['user_id', 'movie_id', 'rating']], reader)\n",
    "\n",
    "trainset, testset = train_test_split(data, test_size=.25)\n",
    "\n",
    "# Let's train a new Nonnegative SVD\n",
    "model = SVD(n_factors=100, biased=False)\n",
    "model.fit(trainset)\n",
    "\n",
    "predictions = model.test(testset)\n",
    "accuracy.rmse(predictions)"
   ]
  },
  {
   "cell_type": "code",
   "execution_count": null,
   "id": "01d5220d-6c1f-4dfa-aa8e-d867d591a1fa",
   "metadata": {},
   "outputs": [],
   "source": [
    "# Let's generate some recommendations for myself - user_id(1000)\n",
    "recommendations = generate_recommended_movies_for_user(model, 1000)\n",
    "display_best_and_worse_recommendations(recommendations)"
   ]
  }
 ],
 "metadata": {
  "kernelspec": {
   "display_name": "Python 3 (ipykernel)",
   "language": "python",
   "name": "python3"
  },
  "language_info": {
   "codemirror_mode": {
    "name": "ipython",
    "version": 3
   },
   "file_extension": ".py",
   "mimetype": "text/x-python",
   "name": "python",
   "nbconvert_exporter": "python",
   "pygments_lexer": "ipython3",
   "version": "3.10.11"
  }
 },
 "nbformat": 4,
 "nbformat_minor": 5
}
